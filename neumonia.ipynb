{
  "cells": [
    {
      "cell_type": "code",
      "source": [
        "import kagglehub\n",
        "\n",
        "# Download latest version\n",
        "path = kagglehub.dataset_download(\"paultimothymooney/chest-xray-pneumonia\")\n",
        "\n",
        "print(\"Path to dataset files:\", path)"
      ],
      "metadata": {
        "colab": {
          "base_uri": "https://localhost:8080/"
        },
        "id": "KSt4r93XstOJ",
        "outputId": "7c6d4db2-cce5-4a0b-cb82-4180c8dfd19a"
      },
      "execution_count": 63,
      "outputs": [
        {
          "output_type": "stream",
          "name": "stdout",
          "text": [
            "Downloading from https://www.kaggle.com/api/v1/datasets/download/paultimothymooney/chest-xray-pneumonia?dataset_version_number=2...\n"
          ]
        },
        {
          "output_type": "stream",
          "name": "stderr",
          "text": [
            "100%|██████████| 2.29G/2.29G [00:24<00:00, 101MB/s]"
          ]
        },
        {
          "output_type": "stream",
          "name": "stdout",
          "text": [
            "Extracting files...\n"
          ]
        },
        {
          "output_type": "stream",
          "name": "stderr",
          "text": [
            "\n"
          ]
        },
        {
          "output_type": "stream",
          "name": "stdout",
          "text": [
            "Path to dataset files: /root/.cache/kagglehub/datasets/paultimothymooney/chest-xray-pneumonia/versions/2\n"
          ]
        }
      ]
    },
    {
      "cell_type": "code",
      "source": [
        "import os\n",
        "from PIL import Image\n",
        "import numpy as np\n",
        "\n",
        "normal_train_path = '/root/.cache/kagglehub/datasets/paultimothymooney/chest-xray-pneumonia/versions/2/chest_xray/train/NORMAL' # Defino la ruta donde estan los datos de entrenamiento de pacientes sanos"
      ],
      "metadata": {
        "id": "KQImUwtfvtad"
      },
      "execution_count": 78,
      "outputs": []
    },
    {
      "cell_type": "code",
      "source": [
        "normal_data_training = np.zeros((1341,50,50), dtype=float) # Creo un array vacio para meter 1341 arrays de 50x50 píxeles que tiene cada imagen.\n",
        "index = 0\n",
        "\n",
        "for file in os.listdir(normal_train_path):\n",
        "  file_path = f'{normal_train_path}/{file}'  # Voy recorriendo los elementos de la ruta y defino para cada archivo su ruta que queda almacenada en la variable file_path\n",
        "  imagen = Image.open(file_path)             # Almaceno la imagen en una variable\n",
        "  imagen_resized = imagen.resize((50,50))    # Redimensiono la imagen a 50x50 píxeles\n",
        "  array_img = np.array(imagen_resized)       # Convierto la imagen en un array de numpy\n",
        "  normal_data_training[index] = array_img    # Guardo el array en el array vacio que cree\n",
        "  index += 1"
      ],
      "metadata": {
        "id": "psaie7iow5pq"
      },
      "execution_count": 117,
      "outputs": []
    },
    {
      "cell_type": "code",
      "source": [
        "pneumonia_train_path = '/root/.cache/kagglehub/datasets/paultimothymooney/chest-xray-pneumonia/versions/2/chest_xray/train/PNEUMONIA'\n",
        "pneumonia_data_training = np.zeros((3875,50,50), dtype=float) # Creo un array vacío para meter 3875 imagenes de 50x50 píxeles.\n",
        "index = 0\n",
        "datos_eliminados = 0\n",
        "\n",
        "for file in os.listdir(pneumonia_train_path):\n",
        "  file_path = f'{pneumonia_train_path}/{file}'     # Recorro todos los archivos del directorio donde se almacenan las imagenes de entrenamiento de pacientes con neumonia\n",
        "  imagen = Image.open(file_path)                   # Almaceno la imagen en una variable\n",
        "  imagen_resized = imagen.resize((50,50))         # Redimensiono la imagen a 50x50 píxeles\n",
        "  array_img = np.array(imagen_resized)            # Convierto la imagen en un array de numpy\n",
        "  if np.shape(array_img) == (50,50):              # Meto un condicional para que elimine todos los arrays de imagenes que esten en color (shape de imagen de color = (50,50,3))\n",
        "    pneumonia_data_training[index] = array_img    # Si el array tiene un shape de (50,50) lo almaceno en el array de datos de entrenamieto de pacientes con neumonia\n",
        "  else:\n",
        "    print('Dato Eliminado!')\n",
        "    datos_eliminados += 1\n",
        "\n",
        "  index += 1\n",
        "\n",
        "print(f'Datos Eliminados: {datos_eliminados}')"
      ],
      "metadata": {
        "collapsed": true,
        "id": "IGlG8xaF5wM6",
        "outputId": "7af573fd-abfc-42a5-f6d3-59091a7b83c3",
        "colab": {
          "base_uri": "https://localhost:8080/"
        }
      },
      "execution_count": 146,
      "outputs": [
        {
          "output_type": "stream",
          "name": "stdout",
          "text": [
            "Dato Eliminado!\n",
            "Dato Eliminado!\n",
            "Dato Eliminado!\n",
            "Dato Eliminado!\n",
            "Dato Eliminado!\n",
            "Dato Eliminado!\n",
            "Dato Eliminado!\n",
            "Dato Eliminado!\n",
            "Dato Eliminado!\n",
            "Dato Eliminado!\n",
            "Dato Eliminado!\n",
            "Dato Eliminado!\n",
            "Dato Eliminado!\n",
            "Dato Eliminado!\n",
            "Dato Eliminado!\n",
            "Dato Eliminado!\n",
            "Dato Eliminado!\n",
            "Dato Eliminado!\n",
            "Dato Eliminado!\n",
            "Dato Eliminado!\n",
            "Dato Eliminado!\n",
            "Dato Eliminado!\n",
            "Dato Eliminado!\n",
            "Dato Eliminado!\n",
            "Dato Eliminado!\n",
            "Dato Eliminado!\n",
            "Dato Eliminado!\n",
            "Dato Eliminado!\n",
            "Dato Eliminado!\n",
            "Dato Eliminado!\n",
            "Dato Eliminado!\n",
            "Dato Eliminado!\n",
            "Dato Eliminado!\n",
            "Dato Eliminado!\n",
            "Dato Eliminado!\n",
            "Dato Eliminado!\n",
            "Dato Eliminado!\n",
            "Dato Eliminado!\n",
            "Dato Eliminado!\n",
            "Dato Eliminado!\n",
            "Dato Eliminado!\n",
            "Dato Eliminado!\n",
            "Dato Eliminado!\n",
            "Dato Eliminado!\n",
            "Dato Eliminado!\n",
            "Dato Eliminado!\n",
            "Dato Eliminado!\n",
            "Dato Eliminado!\n",
            "Dato Eliminado!\n",
            "Dato Eliminado!\n",
            "Dato Eliminado!\n",
            "Dato Eliminado!\n",
            "Dato Eliminado!\n",
            "Dato Eliminado!\n",
            "Dato Eliminado!\n",
            "Dato Eliminado!\n",
            "Dato Eliminado!\n",
            "Dato Eliminado!\n",
            "Dato Eliminado!\n",
            "Dato Eliminado!\n",
            "Dato Eliminado!\n",
            "Dato Eliminado!\n",
            "Dato Eliminado!\n",
            "Dato Eliminado!\n",
            "Dato Eliminado!\n",
            "Dato Eliminado!\n",
            "Dato Eliminado!\n",
            "Dato Eliminado!\n",
            "Dato Eliminado!\n",
            "Dato Eliminado!\n",
            "Dato Eliminado!\n",
            "Dato Eliminado!\n",
            "Dato Eliminado!\n",
            "Dato Eliminado!\n",
            "Dato Eliminado!\n",
            "Dato Eliminado!\n",
            "Dato Eliminado!\n",
            "Dato Eliminado!\n",
            "Dato Eliminado!\n",
            "Dato Eliminado!\n",
            "Dato Eliminado!\n",
            "Dato Eliminado!\n",
            "Dato Eliminado!\n",
            "Dato Eliminado!\n",
            "Dato Eliminado!\n",
            "Dato Eliminado!\n",
            "Dato Eliminado!\n",
            "Dato Eliminado!\n",
            "Dato Eliminado!\n",
            "Dato Eliminado!\n",
            "Dato Eliminado!\n",
            "Dato Eliminado!\n",
            "Dato Eliminado!\n",
            "Dato Eliminado!\n",
            "Dato Eliminado!\n",
            "Dato Eliminado!\n",
            "Dato Eliminado!\n",
            "Dato Eliminado!\n",
            "Dato Eliminado!\n",
            "Dato Eliminado!\n",
            "Dato Eliminado!\n",
            "Dato Eliminado!\n",
            "Dato Eliminado!\n",
            "Dato Eliminado!\n",
            "Dato Eliminado!\n",
            "Dato Eliminado!\n",
            "Dato Eliminado!\n",
            "Dato Eliminado!\n",
            "Dato Eliminado!\n",
            "Dato Eliminado!\n",
            "Dato Eliminado!\n",
            "Dato Eliminado!\n",
            "Dato Eliminado!\n",
            "Dato Eliminado!\n",
            "Dato Eliminado!\n",
            "Dato Eliminado!\n",
            "Dato Eliminado!\n",
            "Dato Eliminado!\n",
            "Dato Eliminado!\n",
            "Dato Eliminado!\n",
            "Dato Eliminado!\n",
            "Dato Eliminado!\n",
            "Dato Eliminado!\n",
            "Dato Eliminado!\n",
            "Dato Eliminado!\n",
            "Dato Eliminado!\n",
            "Dato Eliminado!\n",
            "Dato Eliminado!\n",
            "Dato Eliminado!\n",
            "Dato Eliminado!\n",
            "Dato Eliminado!\n",
            "Dato Eliminado!\n",
            "Dato Eliminado!\n",
            "Dato Eliminado!\n",
            "Dato Eliminado!\n",
            "Dato Eliminado!\n",
            "Dato Eliminado!\n",
            "Dato Eliminado!\n",
            "Dato Eliminado!\n",
            "Dato Eliminado!\n",
            "Dato Eliminado!\n",
            "Dato Eliminado!\n",
            "Dato Eliminado!\n",
            "Dato Eliminado!\n",
            "Dato Eliminado!\n",
            "Dato Eliminado!\n",
            "Dato Eliminado!\n",
            "Dato Eliminado!\n",
            "Dato Eliminado!\n",
            "Dato Eliminado!\n",
            "Dato Eliminado!\n",
            "Dato Eliminado!\n",
            "Dato Eliminado!\n",
            "Dato Eliminado!\n",
            "Dato Eliminado!\n",
            "Dato Eliminado!\n",
            "Dato Eliminado!\n",
            "Dato Eliminado!\n",
            "Dato Eliminado!\n",
            "Dato Eliminado!\n",
            "Dato Eliminado!\n",
            "Dato Eliminado!\n",
            "Dato Eliminado!\n",
            "Dato Eliminado!\n",
            "Dato Eliminado!\n",
            "Dato Eliminado!\n",
            "Dato Eliminado!\n",
            "Dato Eliminado!\n",
            "Dato Eliminado!\n",
            "Dato Eliminado!\n",
            "Dato Eliminado!\n",
            "Dato Eliminado!\n",
            "Dato Eliminado!\n",
            "Dato Eliminado!\n",
            "Dato Eliminado!\n",
            "Dato Eliminado!\n",
            "Dato Eliminado!\n",
            "Dato Eliminado!\n",
            "Dato Eliminado!\n",
            "Dato Eliminado!\n",
            "Dato Eliminado!\n",
            "Dato Eliminado!\n",
            "Dato Eliminado!\n",
            "Dato Eliminado!\n",
            "Dato Eliminado!\n",
            "Dato Eliminado!\n",
            "Dato Eliminado!\n",
            "Dato Eliminado!\n",
            "Dato Eliminado!\n",
            "Dato Eliminado!\n",
            "Dato Eliminado!\n",
            "Dato Eliminado!\n",
            "Dato Eliminado!\n",
            "Dato Eliminado!\n",
            "Dato Eliminado!\n",
            "Dato Eliminado!\n",
            "Dato Eliminado!\n",
            "Dato Eliminado!\n",
            "Dato Eliminado!\n",
            "Dato Eliminado!\n",
            "Dato Eliminado!\n",
            "Dato Eliminado!\n",
            "Dato Eliminado!\n",
            "Dato Eliminado!\n",
            "Dato Eliminado!\n",
            "Dato Eliminado!\n",
            "Dato Eliminado!\n",
            "Dato Eliminado!\n",
            "Dato Eliminado!\n",
            "Dato Eliminado!\n",
            "Dato Eliminado!\n",
            "Dato Eliminado!\n",
            "Dato Eliminado!\n",
            "Dato Eliminado!\n",
            "Dato Eliminado!\n",
            "Dato Eliminado!\n",
            "Dato Eliminado!\n",
            "Dato Eliminado!\n",
            "Dato Eliminado!\n",
            "Dato Eliminado!\n",
            "Dato Eliminado!\n",
            "Dato Eliminado!\n",
            "Dato Eliminado!\n",
            "Dato Eliminado!\n",
            "Dato Eliminado!\n",
            "Dato Eliminado!\n",
            "Dato Eliminado!\n",
            "Dato Eliminado!\n",
            "Dato Eliminado!\n",
            "Dato Eliminado!\n",
            "Dato Eliminado!\n",
            "Dato Eliminado!\n",
            "Dato Eliminado!\n",
            "Dato Eliminado!\n",
            "Dato Eliminado!\n",
            "Dato Eliminado!\n",
            "Dato Eliminado!\n",
            "Dato Eliminado!\n",
            "Dato Eliminado!\n",
            "Dato Eliminado!\n",
            "Dato Eliminado!\n",
            "Dato Eliminado!\n",
            "Dato Eliminado!\n",
            "Dato Eliminado!\n",
            "Dato Eliminado!\n",
            "Dato Eliminado!\n",
            "Dato Eliminado!\n",
            "Dato Eliminado!\n",
            "Dato Eliminado!\n",
            "Dato Eliminado!\n",
            "Dato Eliminado!\n",
            "Dato Eliminado!\n",
            "Dato Eliminado!\n",
            "Dato Eliminado!\n",
            "Dato Eliminado!\n",
            "Dato Eliminado!\n",
            "Dato Eliminado!\n",
            "Dato Eliminado!\n",
            "Dato Eliminado!\n",
            "Dato Eliminado!\n",
            "Dato Eliminado!\n",
            "Dato Eliminado!\n",
            "Dato Eliminado!\n",
            "Dato Eliminado!\n",
            "Dato Eliminado!\n",
            "Dato Eliminado!\n",
            "Dato Eliminado!\n",
            "Dato Eliminado!\n",
            "Dato Eliminado!\n",
            "Dato Eliminado!\n",
            "Dato Eliminado!\n",
            "Dato Eliminado!\n",
            "Dato Eliminado!\n",
            "Dato Eliminado!\n",
            "Dato Eliminado!\n",
            "Dato Eliminado!\n",
            "Dato Eliminado!\n",
            "Dato Eliminado!\n",
            "Dato Eliminado!\n",
            "Dato Eliminado!\n",
            "Dato Eliminado!\n",
            "Dato Eliminado!\n",
            "Dato Eliminado!\n",
            "Datos Eliminados: 283\n"
          ]
        }
      ]
    },
    {
      "cell_type": "code",
      "source": [
        "normal_test_path = '/root/.cache/kagglehub/datasets/paultimothymooney/chest-xray-pneumonia/versions/2/chest_xray/chest_xray/test/NORMAL'\n",
        "normal_data_testing = np.zeros((234,50,50), dtype=float)\n",
        "index = 0\n",
        "datos_eliminados = 0\n",
        "\n",
        "for file in os.listdir(normal_test_path):\n",
        "  file_path = f'{normal_test_path}/{file}'\n",
        "  imagen = Image.open(file_path)\n",
        "  imagen_resized = imagen.resize((50,50))\n",
        "  array_img = np.array(imagen_resized)\n",
        "  if np.shape(array_img) == (50,50):\n",
        "    normal_data_testing[index] = array_img\n",
        "  else:\n",
        "    print('Dato Eliminado!')\n",
        "    datos_eliminados += 1\n",
        "\n",
        "  index += 1\n",
        "\n",
        "print(f'Datos Eliminados: {datos_eliminados}')"
      ],
      "metadata": {
        "id": "3cy3sSveBdlA",
        "outputId": "d08a4116-1aa4-4144-d936-b879ea82e1c2",
        "colab": {
          "base_uri": "https://localhost:8080/"
        }
      },
      "execution_count": 150,
      "outputs": [
        {
          "output_type": "stream",
          "name": "stdout",
          "text": [
            "Datos Eliminados: 0\n"
          ]
        }
      ]
    },
    {
      "cell_type": "code",
      "source": [
        "pneumonia_test_path = '/root/.cache/kagglehub/datasets/paultimothymooney/chest-xray-pneumonia/versions/2/chest_xray/chest_xray/test/PNEUMONIA'\n",
        "pneumonia_data_testing = np.zeros((390,50,50), dtype=float)\n",
        "index = 0\n",
        "datos_eliminados = 0\n",
        "\n",
        "for file in os.listdir(pneumonia_test_path):\n",
        "  file_path = f'{pneumonia_test_path}/{file}'\n",
        "  imagen = Image.open(file_path)\n",
        "  imagen_resized = imagen.resize((50,50))\n",
        "  array_img = np.array(imagen_resized)\n",
        "  if np.shape(array_img) == (50,50):\n",
        "    pneumonia_data_testing[index] = array_img\n",
        "  else:\n",
        "    print('Dato Eliminado!')\n",
        "    datos_eliminados += 1\n",
        "\n",
        "  index += 1\n",
        "\n",
        "print(f'Datos Eliminados: {datos_eliminados}')"
      ],
      "metadata": {
        "id": "DrBWZ7RMDVTR",
        "outputId": "19324ec9-d625-4d1f-c890-515cff9584e5",
        "colab": {
          "base_uri": "https://localhost:8080/"
        }
      },
      "execution_count": 151,
      "outputs": [
        {
          "output_type": "stream",
          "name": "stdout",
          "text": [
            "Datos Eliminados: 0\n"
          ]
        }
      ]
    },
    {
      "cell_type": "code",
      "source": [
        "x_train = np.concatenate((normal_data_training, pneumonia_data_training), axis=0)\n",
        "x_test = np.concatenate((normal_data_testing, pneumonia_data_testing),axis=0)     #Con concatenate uno los dos arrays en uno solo"
      ],
      "metadata": {
        "id": "VBmxIPnbEBH2"
      },
      "execution_count": 154,
      "outputs": []
    },
    {
      "cell_type": "code",
      "source": [
        "y_train = np.concatenate((np.zeros(len(normal_data_training)), np.ones(len(pneumonia_data_training)))) # Creo un array lleno de 0 y 1. Los primeros 1341 elementos pertenecen a pacientes sanos.\n",
        "y_test = np.concatenate((np.zeros(len(normal_data_testing)), np.ones(len(pneumonia_data_testing)))) ### Normal(0), Neumonia(1)"
      ],
      "metadata": {
        "id": "kVjDFjQGEtCL"
      },
      "execution_count": 156,
      "outputs": []
    },
    {
      "cell_type": "code",
      "source": [
        "import tensorflow as tf\n",
        "from tensorflow.keras.models import Sequential\n",
        "from tensorflow.keras.layers import Dense, Conv2D, Flatten, Dropout, MaxPooling2D"
      ],
      "metadata": {
        "id": "-XzjQepgGDtV"
      },
      "execution_count": 165,
      "outputs": []
    },
    {
      "cell_type": "code",
      "source": [
        "model = Sequential([\n",
        "\n",
        "    Conv2D(32,(3,3), activation='relu', input_shape=(50,50,1)),\n",
        "    MaxPooling2D(2,2),\n",
        "    Flatten(),\n",
        "    Dense(32, activation='relu'),\n",
        "    Dense(16, activation='relu'),\n",
        "    Dense(1,activation='sigmoid')\n",
        "\n",
        "])"
      ],
      "metadata": {
        "id": "AvQFQkLgGuog",
        "outputId": "9ef3d2ba-ccc8-4524-810e-f19f5fa53b05",
        "colab": {
          "base_uri": "https://localhost:8080/"
        }
      },
      "execution_count": 178,
      "outputs": [
        {
          "output_type": "stream",
          "name": "stderr",
          "text": [
            "/usr/local/lib/python3.10/dist-packages/keras/src/layers/convolutional/base_conv.py:107: UserWarning: Do not pass an `input_shape`/`input_dim` argument to a layer. When using Sequential models, prefer using an `Input(shape)` object as the first layer in the model instead.\n",
            "  super().__init__(activity_regularizer=activity_regularizer, **kwargs)\n"
          ]
        }
      ]
    },
    {
      "cell_type": "code",
      "source": [
        "model.compile(optimizer='adam', loss='binary_crossentropy', metrics=['accuracy'])"
      ],
      "metadata": {
        "id": "QK9kUUJoHcUx"
      },
      "execution_count": 179,
      "outputs": []
    },
    {
      "cell_type": "code",
      "source": [
        "history = model.fit(x_train,y_train, epochs=5, validation_data=(x_test,y_test))"
      ],
      "metadata": {
        "id": "Q5BgZBjZIbA_",
        "outputId": "9af71123-9699-4de0-baaf-a2cbe9eec0a7",
        "colab": {
          "base_uri": "https://localhost:8080/"
        }
      },
      "execution_count": 182,
      "outputs": [
        {
          "output_type": "stream",
          "name": "stdout",
          "text": [
            "Epoch 1/5\n",
            "\u001b[1m163/163\u001b[0m \u001b[32m━━━━━━━━━━━━━━━━━━━━\u001b[0m\u001b[37m\u001b[0m \u001b[1m7s\u001b[0m 45ms/step - accuracy: 0.9981 - loss: 0.0070 - val_accuracy: 0.7372 - val_loss: 2.1399\n",
            "Epoch 2/5\n",
            "\u001b[1m163/163\u001b[0m \u001b[32m━━━━━━━━━━━━━━━━━━━━\u001b[0m\u001b[37m\u001b[0m \u001b[1m7s\u001b[0m 45ms/step - accuracy: 1.0000 - loss: 0.0017 - val_accuracy: 0.7516 - val_loss: 2.0208\n",
            "Epoch 3/5\n",
            "\u001b[1m163/163\u001b[0m \u001b[32m━━━━━━━━━━━━━━━━━━━━\u001b[0m\u001b[37m\u001b[0m \u001b[1m8s\u001b[0m 51ms/step - accuracy: 0.9994 - loss: 0.0044 - val_accuracy: 0.7436 - val_loss: 2.1196\n",
            "Epoch 4/5\n",
            "\u001b[1m163/163\u001b[0m \u001b[32m━━━━━━━━━━━━━━━━━━━━\u001b[0m\u001b[37m\u001b[0m \u001b[1m7s\u001b[0m 40ms/step - accuracy: 1.0000 - loss: 9.8889e-04 - val_accuracy: 0.7468 - val_loss: 2.1018\n",
            "Epoch 5/5\n",
            "\u001b[1m163/163\u001b[0m \u001b[32m━━━━━━━━━━━━━━━━━━━━\u001b[0m\u001b[37m\u001b[0m \u001b[1m8s\u001b[0m 49ms/step - accuracy: 1.0000 - loss: 6.0409e-04 - val_accuracy: 0.7468 - val_loss: 2.3178\n"
          ]
        }
      ]
    },
    {
      "cell_type": "code",
      "source": [
        "plt.plot(history.history['accuracy'], c='blue', label='Datos Entrenamiento')\n",
        "plt.plot(history.history['val_accuracy'], c='orange', label='Datos Validación')\n",
        "plt.legend(loc='upper left')\n",
        "plt.show()"
      ],
      "metadata": {
        "id": "LwldEzROInQG",
        "outputId": "5122dcf8-b4df-4371-eebb-897ea1686a95",
        "colab": {
          "base_uri": "https://localhost:8080/",
          "height": 430
        }
      },
      "execution_count": 183,
      "outputs": [
        {
          "output_type": "display_data",
          "data": {
            "text/plain": [
              "<Figure size 640x480 with 1 Axes>"
            ],
            "image/png": "[encoded data removed]"
          },
          "metadata": {}
        }
      ]
    }
  ],
  "metadata": {
    "colab": {
      "name": "Te damos la bienvenida a Colaboratory",
      "provenance": []
    },
    "kernelspec": {
      "display_name": "Python 3",
      "name": "python3"
    }
  },
  "nbformat": 4,
  "nbformat_minor": 0
}